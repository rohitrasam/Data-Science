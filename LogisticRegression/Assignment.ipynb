{
 "cells": [
  {
   "cell_type": "code",
   "execution_count": 313,
   "id": "2cea933a",
   "metadata": {
    "ExecuteTime": {
     "end_time": "2023-01-19T14:42:57.210699Z",
     "start_time": "2023-01-19T14:42:57.186584Z"
    }
   },
   "outputs": [],
   "source": [
    "import pandas as pd\n",
    "import numpy as np\n",
    "import seaborn as sns\n",
    "import matplotlib.pyplot as plt\n",
    "from sklearn.linear_model import LogisticRegression\n",
    "from sklearn.metrics import classification_report, confusion_matrix, roc_auc_score, roc_curve, accuracy_score\n",
    "from sklearn.preprocessing import StandardScaler\n",
    "from sklearn.model_selection import train_test_split\n",
    "from sklearn.preprocessing import OrdinalEncoder, LabelEncoder\n",
    "from sklearn.preprocessing import binarize\n",
    "%matplotlib inline"
   ]
  },
  {
   "cell_type": "code",
   "execution_count": 231,
   "id": "d17ef779",
   "metadata": {
    "ExecuteTime": {
     "end_time": "2023-01-19T10:18:38.925878Z",
     "start_time": "2023-01-19T10:18:38.829262Z"
    }
   },
   "outputs": [
    {
     "data": {
      "text/html": [
       "<div>\n",
       "<style scoped>\n",
       "    .dataframe tbody tr th:only-of-type {\n",
       "        vertical-align: middle;\n",
       "    }\n",
       "\n",
       "    .dataframe tbody tr th {\n",
       "        vertical-align: top;\n",
       "    }\n",
       "\n",
       "    .dataframe thead th {\n",
       "        text-align: right;\n",
       "    }\n",
       "</style>\n",
       "<table border=\"1\" class=\"dataframe\">\n",
       "  <thead>\n",
       "    <tr style=\"text-align: right;\">\n",
       "      <th></th>\n",
       "      <th>age</th>\n",
       "      <th>job</th>\n",
       "      <th>marital</th>\n",
       "      <th>education</th>\n",
       "      <th>default</th>\n",
       "      <th>balance</th>\n",
       "      <th>housing</th>\n",
       "      <th>loan</th>\n",
       "      <th>contact</th>\n",
       "      <th>day</th>\n",
       "      <th>month</th>\n",
       "      <th>duration</th>\n",
       "      <th>campaign</th>\n",
       "      <th>pdays</th>\n",
       "      <th>previous</th>\n",
       "      <th>poutcome</th>\n",
       "      <th>y</th>\n",
       "    </tr>\n",
       "  </thead>\n",
       "  <tbody>\n",
       "    <tr>\n",
       "      <th>0</th>\n",
       "      <td>58</td>\n",
       "      <td>management</td>\n",
       "      <td>married</td>\n",
       "      <td>tertiary</td>\n",
       "      <td>no</td>\n",
       "      <td>2143</td>\n",
       "      <td>yes</td>\n",
       "      <td>no</td>\n",
       "      <td>unknown</td>\n",
       "      <td>5</td>\n",
       "      <td>may</td>\n",
       "      <td>261</td>\n",
       "      <td>1</td>\n",
       "      <td>-1</td>\n",
       "      <td>0</td>\n",
       "      <td>unknown</td>\n",
       "      <td>no</td>\n",
       "    </tr>\n",
       "    <tr>\n",
       "      <th>1</th>\n",
       "      <td>44</td>\n",
       "      <td>technician</td>\n",
       "      <td>single</td>\n",
       "      <td>secondary</td>\n",
       "      <td>no</td>\n",
       "      <td>29</td>\n",
       "      <td>yes</td>\n",
       "      <td>no</td>\n",
       "      <td>unknown</td>\n",
       "      <td>5</td>\n",
       "      <td>may</td>\n",
       "      <td>151</td>\n",
       "      <td>1</td>\n",
       "      <td>-1</td>\n",
       "      <td>0</td>\n",
       "      <td>unknown</td>\n",
       "      <td>no</td>\n",
       "    </tr>\n",
       "    <tr>\n",
       "      <th>2</th>\n",
       "      <td>33</td>\n",
       "      <td>entrepreneur</td>\n",
       "      <td>married</td>\n",
       "      <td>secondary</td>\n",
       "      <td>no</td>\n",
       "      <td>2</td>\n",
       "      <td>yes</td>\n",
       "      <td>yes</td>\n",
       "      <td>unknown</td>\n",
       "      <td>5</td>\n",
       "      <td>may</td>\n",
       "      <td>76</td>\n",
       "      <td>1</td>\n",
       "      <td>-1</td>\n",
       "      <td>0</td>\n",
       "      <td>unknown</td>\n",
       "      <td>no</td>\n",
       "    </tr>\n",
       "    <tr>\n",
       "      <th>3</th>\n",
       "      <td>47</td>\n",
       "      <td>blue-collar</td>\n",
       "      <td>married</td>\n",
       "      <td>unknown</td>\n",
       "      <td>no</td>\n",
       "      <td>1506</td>\n",
       "      <td>yes</td>\n",
       "      <td>no</td>\n",
       "      <td>unknown</td>\n",
       "      <td>5</td>\n",
       "      <td>may</td>\n",
       "      <td>92</td>\n",
       "      <td>1</td>\n",
       "      <td>-1</td>\n",
       "      <td>0</td>\n",
       "      <td>unknown</td>\n",
       "      <td>no</td>\n",
       "    </tr>\n",
       "    <tr>\n",
       "      <th>4</th>\n",
       "      <td>33</td>\n",
       "      <td>unknown</td>\n",
       "      <td>single</td>\n",
       "      <td>unknown</td>\n",
       "      <td>no</td>\n",
       "      <td>1</td>\n",
       "      <td>no</td>\n",
       "      <td>no</td>\n",
       "      <td>unknown</td>\n",
       "      <td>5</td>\n",
       "      <td>may</td>\n",
       "      <td>198</td>\n",
       "      <td>1</td>\n",
       "      <td>-1</td>\n",
       "      <td>0</td>\n",
       "      <td>unknown</td>\n",
       "      <td>no</td>\n",
       "    </tr>\n",
       "  </tbody>\n",
       "</table>\n",
       "</div>"
      ],
      "text/plain": [
       "   age           job  marital  education default  balance housing loan  \\\n",
       "0   58    management  married   tertiary      no     2143     yes   no   \n",
       "1   44    technician   single  secondary      no       29     yes   no   \n",
       "2   33  entrepreneur  married  secondary      no        2     yes  yes   \n",
       "3   47   blue-collar  married    unknown      no     1506     yes   no   \n",
       "4   33       unknown   single    unknown      no        1      no   no   \n",
       "\n",
       "   contact  day month  duration  campaign  pdays  previous poutcome   y  \n",
       "0  unknown    5   may       261         1     -1         0  unknown  no  \n",
       "1  unknown    5   may       151         1     -1         0  unknown  no  \n",
       "2  unknown    5   may        76         1     -1         0  unknown  no  \n",
       "3  unknown    5   may        92         1     -1         0  unknown  no  \n",
       "4  unknown    5   may       198         1     -1         0  unknown  no  "
      ]
     },
     "execution_count": 231,
     "metadata": {},
     "output_type": "execute_result"
    }
   ],
   "source": [
    "df = pd.read_csv('bank-full.csv', sep=';')\n",
    "df.head()"
   ]
  },
  {
   "cell_type": "markdown",
   "id": "dd1a745e",
   "metadata": {},
   "source": [
    "## EDA"
   ]
  },
  {
   "cell_type": "code",
   "execution_count": 232,
   "id": "13965c1b",
   "metadata": {
    "ExecuteTime": {
     "end_time": "2023-01-19T10:18:39.627723Z",
     "start_time": "2023-01-19T10:18:39.573267Z"
    }
   },
   "outputs": [
    {
     "data": {
      "text/html": [
       "<div>\n",
       "<style scoped>\n",
       "    .dataframe tbody tr th:only-of-type {\n",
       "        vertical-align: middle;\n",
       "    }\n",
       "\n",
       "    .dataframe tbody tr th {\n",
       "        vertical-align: top;\n",
       "    }\n",
       "\n",
       "    .dataframe thead th {\n",
       "        text-align: right;\n",
       "    }\n",
       "</style>\n",
       "<table border=\"1\" class=\"dataframe\">\n",
       "  <thead>\n",
       "    <tr style=\"text-align: right;\">\n",
       "      <th></th>\n",
       "      <th>age</th>\n",
       "      <th>balance</th>\n",
       "      <th>day</th>\n",
       "      <th>duration</th>\n",
       "      <th>campaign</th>\n",
       "      <th>pdays</th>\n",
       "      <th>previous</th>\n",
       "    </tr>\n",
       "  </thead>\n",
       "  <tbody>\n",
       "    <tr>\n",
       "      <th>count</th>\n",
       "      <td>45211.000000</td>\n",
       "      <td>45211.000000</td>\n",
       "      <td>45211.000000</td>\n",
       "      <td>45211.000000</td>\n",
       "      <td>45211.000000</td>\n",
       "      <td>45211.000000</td>\n",
       "      <td>45211.000000</td>\n",
       "    </tr>\n",
       "    <tr>\n",
       "      <th>mean</th>\n",
       "      <td>40.936210</td>\n",
       "      <td>1362.272058</td>\n",
       "      <td>15.806419</td>\n",
       "      <td>258.163080</td>\n",
       "      <td>2.763841</td>\n",
       "      <td>40.197828</td>\n",
       "      <td>0.580323</td>\n",
       "    </tr>\n",
       "    <tr>\n",
       "      <th>std</th>\n",
       "      <td>10.618762</td>\n",
       "      <td>3044.765829</td>\n",
       "      <td>8.322476</td>\n",
       "      <td>257.527812</td>\n",
       "      <td>3.098021</td>\n",
       "      <td>100.128746</td>\n",
       "      <td>2.303441</td>\n",
       "    </tr>\n",
       "    <tr>\n",
       "      <th>min</th>\n",
       "      <td>18.000000</td>\n",
       "      <td>-8019.000000</td>\n",
       "      <td>1.000000</td>\n",
       "      <td>0.000000</td>\n",
       "      <td>1.000000</td>\n",
       "      <td>-1.000000</td>\n",
       "      <td>0.000000</td>\n",
       "    </tr>\n",
       "    <tr>\n",
       "      <th>25%</th>\n",
       "      <td>33.000000</td>\n",
       "      <td>72.000000</td>\n",
       "      <td>8.000000</td>\n",
       "      <td>103.000000</td>\n",
       "      <td>1.000000</td>\n",
       "      <td>-1.000000</td>\n",
       "      <td>0.000000</td>\n",
       "    </tr>\n",
       "    <tr>\n",
       "      <th>50%</th>\n",
       "      <td>39.000000</td>\n",
       "      <td>448.000000</td>\n",
       "      <td>16.000000</td>\n",
       "      <td>180.000000</td>\n",
       "      <td>2.000000</td>\n",
       "      <td>-1.000000</td>\n",
       "      <td>0.000000</td>\n",
       "    </tr>\n",
       "    <tr>\n",
       "      <th>75%</th>\n",
       "      <td>48.000000</td>\n",
       "      <td>1428.000000</td>\n",
       "      <td>21.000000</td>\n",
       "      <td>319.000000</td>\n",
       "      <td>3.000000</td>\n",
       "      <td>-1.000000</td>\n",
       "      <td>0.000000</td>\n",
       "    </tr>\n",
       "    <tr>\n",
       "      <th>max</th>\n",
       "      <td>95.000000</td>\n",
       "      <td>102127.000000</td>\n",
       "      <td>31.000000</td>\n",
       "      <td>4918.000000</td>\n",
       "      <td>63.000000</td>\n",
       "      <td>871.000000</td>\n",
       "      <td>275.000000</td>\n",
       "    </tr>\n",
       "  </tbody>\n",
       "</table>\n",
       "</div>"
      ],
      "text/plain": [
       "                age        balance           day      duration      campaign  \\\n",
       "count  45211.000000   45211.000000  45211.000000  45211.000000  45211.000000   \n",
       "mean      40.936210    1362.272058     15.806419    258.163080      2.763841   \n",
       "std       10.618762    3044.765829      8.322476    257.527812      3.098021   \n",
       "min       18.000000   -8019.000000      1.000000      0.000000      1.000000   \n",
       "25%       33.000000      72.000000      8.000000    103.000000      1.000000   \n",
       "50%       39.000000     448.000000     16.000000    180.000000      2.000000   \n",
       "75%       48.000000    1428.000000     21.000000    319.000000      3.000000   \n",
       "max       95.000000  102127.000000     31.000000   4918.000000     63.000000   \n",
       "\n",
       "              pdays      previous  \n",
       "count  45211.000000  45211.000000  \n",
       "mean      40.197828      0.580323  \n",
       "std      100.128746      2.303441  \n",
       "min       -1.000000      0.000000  \n",
       "25%       -1.000000      0.000000  \n",
       "50%       -1.000000      0.000000  \n",
       "75%       -1.000000      0.000000  \n",
       "max      871.000000    275.000000  "
      ]
     },
     "execution_count": 232,
     "metadata": {},
     "output_type": "execute_result"
    }
   ],
   "source": [
    "df.describe()"
   ]
  },
  {
   "cell_type": "code",
   "execution_count": 233,
   "id": "61847a61",
   "metadata": {
    "ExecuteTime": {
     "end_time": "2023-01-19T10:18:40.330380Z",
     "start_time": "2023-01-19T10:18:40.258124Z"
    }
   },
   "outputs": [
    {
     "name": "stdout",
     "output_type": "stream",
     "text": [
      "<class 'pandas.core.frame.DataFrame'>\n",
      "RangeIndex: 45211 entries, 0 to 45210\n",
      "Data columns (total 17 columns):\n",
      " #   Column     Non-Null Count  Dtype \n",
      "---  ------     --------------  ----- \n",
      " 0   age        45211 non-null  int64 \n",
      " 1   job        45211 non-null  object\n",
      " 2   marital    45211 non-null  object\n",
      " 3   education  45211 non-null  object\n",
      " 4   default    45211 non-null  object\n",
      " 5   balance    45211 non-null  int64 \n",
      " 6   housing    45211 non-null  object\n",
      " 7   loan       45211 non-null  object\n",
      " 8   contact    45211 non-null  object\n",
      " 9   day        45211 non-null  int64 \n",
      " 10  month      45211 non-null  object\n",
      " 11  duration   45211 non-null  int64 \n",
      " 12  campaign   45211 non-null  int64 \n",
      " 13  pdays      45211 non-null  int64 \n",
      " 14  previous   45211 non-null  int64 \n",
      " 15  poutcome   45211 non-null  object\n",
      " 16  y          45211 non-null  object\n",
      "dtypes: int64(7), object(10)\n",
      "memory usage: 5.9+ MB\n"
     ]
    }
   ],
   "source": [
    "df.info()"
   ]
  },
  {
   "cell_type": "code",
   "execution_count": 234,
   "id": "509983a3",
   "metadata": {
    "ExecuteTime": {
     "end_time": "2023-01-19T10:18:40.843353Z",
     "start_time": "2023-01-19T10:18:40.778895Z"
    }
   },
   "outputs": [
    {
     "data": {
      "text/plain": [
       "age          0\n",
       "job          0\n",
       "marital      0\n",
       "education    0\n",
       "default      0\n",
       "balance      0\n",
       "housing      0\n",
       "loan         0\n",
       "contact      0\n",
       "day          0\n",
       "month        0\n",
       "duration     0\n",
       "campaign     0\n",
       "pdays        0\n",
       "previous     0\n",
       "poutcome     0\n",
       "y            0\n",
       "dtype: int64"
      ]
     },
     "execution_count": 234,
     "metadata": {},
     "output_type": "execute_result"
    }
   ],
   "source": [
    "df.isna().sum()"
   ]
  },
  {
   "cell_type": "code",
   "execution_count": 235,
   "id": "f2244e9a",
   "metadata": {
    "ExecuteTime": {
     "end_time": "2023-01-19T10:18:45.140756Z",
     "start_time": "2023-01-19T10:18:45.084437Z"
    }
   },
   "outputs": [
    {
     "data": {
      "text/plain": [
       "0"
      ]
     },
     "execution_count": 235,
     "metadata": {},
     "output_type": "execute_result"
    }
   ],
   "source": [
    "df.duplicated().sum()"
   ]
  },
  {
   "cell_type": "code",
   "execution_count": 236,
   "id": "cc5dd0a2",
   "metadata": {
    "ExecuteTime": {
     "end_time": "2023-01-19T10:18:46.694563Z",
     "start_time": "2023-01-19T10:18:46.672295Z"
    }
   },
   "outputs": [],
   "source": [
    "# df = df[['default', 'housing', 'loan', 'campaign', 'pdays', 'previous', 'y']]\n",
    "# df`\n",
    "df['month'] = df['month'].map({'may': 5, 'jun': 6, 'jul': 7, 'aug': 8, 'oct': 10, 'nov': 11, 'dec': 12, 'jan': 1, 'feb': 2,\n",
    "       'mar': 3, 'apr': 4, 'sep': 9})"
   ]
  },
  {
   "cell_type": "code",
   "execution_count": 237,
   "id": "4134879f",
   "metadata": {
    "ExecuteTime": {
     "end_time": "2023-01-19T10:18:48.787440Z",
     "start_time": "2023-01-19T10:18:48.770814Z"
    }
   },
   "outputs": [
    {
     "data": {
      "text/plain": [
       "array([ 5,  6,  7,  8, 10, 11, 12,  1,  2,  3,  4,  9], dtype=int64)"
      ]
     },
     "execution_count": 237,
     "metadata": {},
     "output_type": "execute_result"
    }
   ],
   "source": [
    "df['month'].unique()"
   ]
  },
  {
   "cell_type": "code",
   "execution_count": 238,
   "id": "5da378c7",
   "metadata": {
    "ExecuteTime": {
     "end_time": "2023-01-19T10:18:58.002587Z",
     "start_time": "2023-01-19T10:18:57.891132Z"
    }
   },
   "outputs": [],
   "source": [
    "oe = OrdinalEncoder()\n",
    "le = LabelEncoder()\n",
    "df[['job','marital','education','default', 'housing','loan','contact', 'poutcome']] = oe.fit_transform(df[['job','marital','education','default', 'housing','loan','contact', 'poutcome']])\n",
    "df['y'] = le.fit_transform(df['y'])"
   ]
  },
  {
   "cell_type": "markdown",
   "id": "1af0edfd",
   "metadata": {},
   "source": [
    "## Scaling the data"
   ]
  },
  {
   "cell_type": "code",
   "execution_count": 239,
   "id": "1363d279",
   "metadata": {
    "ExecuteTime": {
     "end_time": "2023-01-19T10:19:04.573848Z",
     "start_time": "2023-01-19T10:19:04.511340Z"
    }
   },
   "outputs": [
    {
     "data": {
      "text/html": [
       "<div>\n",
       "<style scoped>\n",
       "    .dataframe tbody tr th:only-of-type {\n",
       "        vertical-align: middle;\n",
       "    }\n",
       "\n",
       "    .dataframe tbody tr th {\n",
       "        vertical-align: top;\n",
       "    }\n",
       "\n",
       "    .dataframe thead th {\n",
       "        text-align: right;\n",
       "    }\n",
       "</style>\n",
       "<table border=\"1\" class=\"dataframe\">\n",
       "  <thead>\n",
       "    <tr style=\"text-align: right;\">\n",
       "      <th></th>\n",
       "      <th>age</th>\n",
       "      <th>job</th>\n",
       "      <th>marital</th>\n",
       "      <th>education</th>\n",
       "      <th>default</th>\n",
       "      <th>balance</th>\n",
       "      <th>housing</th>\n",
       "      <th>loan</th>\n",
       "      <th>contact</th>\n",
       "      <th>day</th>\n",
       "      <th>month</th>\n",
       "      <th>duration</th>\n",
       "      <th>campaign</th>\n",
       "      <th>pdays</th>\n",
       "      <th>previous</th>\n",
       "      <th>poutcome</th>\n",
       "    </tr>\n",
       "  </thead>\n",
       "  <tbody>\n",
       "    <tr>\n",
       "      <th>0</th>\n",
       "      <td>1.042859</td>\n",
       "      <td>-0.100186</td>\n",
       "      <td>-0.277860</td>\n",
       "      <td>1.040261</td>\n",
       "      <td>-0.135174</td>\n",
       "      <td>-0.442329</td>\n",
       "      <td>-1.120834</td>\n",
       "      <td>-0.435049</td>\n",
       "      <td>-0.711345</td>\n",
       "      <td>0.745027</td>\n",
       "      <td>0.767645</td>\n",
       "      <td>-0.101233</td>\n",
       "      <td>-0.247455</td>\n",
       "      <td>-0.410038</td>\n",
       "      <td>-0.242523</td>\n",
       "      <td>0.443781</td>\n",
       "    </tr>\n",
       "    <tr>\n",
       "      <th>1</th>\n",
       "      <td>0.854392</td>\n",
       "      <td>-1.322693</td>\n",
       "      <td>1.363703</td>\n",
       "      <td>-0.297202</td>\n",
       "      <td>-0.135174</td>\n",
       "      <td>-0.335576</td>\n",
       "      <td>0.892193</td>\n",
       "      <td>-0.435049</td>\n",
       "      <td>1.519852</td>\n",
       "      <td>1.466161</td>\n",
       "      <td>-0.478093</td>\n",
       "      <td>-0.907828</td>\n",
       "      <td>-0.566242</td>\n",
       "      <td>-0.410038</td>\n",
       "      <td>-0.242523</td>\n",
       "      <td>0.443781</td>\n",
       "    </tr>\n",
       "    <tr>\n",
       "      <th>2</th>\n",
       "      <td>0.383224</td>\n",
       "      <td>-1.017066</td>\n",
       "      <td>-0.277860</td>\n",
       "      <td>-1.634664</td>\n",
       "      <td>-0.135174</td>\n",
       "      <td>-0.345280</td>\n",
       "      <td>0.892193</td>\n",
       "      <td>-0.435049</td>\n",
       "      <td>-0.711345</td>\n",
       "      <td>1.586350</td>\n",
       "      <td>-2.139078</td>\n",
       "      <td>-0.213691</td>\n",
       "      <td>-0.566242</td>\n",
       "      <td>2.211476</td>\n",
       "      <td>1.011932</td>\n",
       "      <td>-2.596120</td>\n",
       "    </tr>\n",
       "    <tr>\n",
       "      <th>3</th>\n",
       "      <td>-0.276411</td>\n",
       "      <td>1.427949</td>\n",
       "      <td>-0.277860</td>\n",
       "      <td>-0.297202</td>\n",
       "      <td>-0.135174</td>\n",
       "      <td>-0.433595</td>\n",
       "      <td>0.892193</td>\n",
       "      <td>-0.435049</td>\n",
       "      <td>1.519852</td>\n",
       "      <td>-1.538564</td>\n",
       "      <td>-0.062847</td>\n",
       "      <td>0.565759</td>\n",
       "      <td>0.390119</td>\n",
       "      <td>-0.410038</td>\n",
       "      <td>-0.242523</td>\n",
       "      <td>0.443781</td>\n",
       "    </tr>\n",
       "    <tr>\n",
       "      <th>4</th>\n",
       "      <td>-0.936046</td>\n",
       "      <td>0.816695</td>\n",
       "      <td>1.363703</td>\n",
       "      <td>-0.297202</td>\n",
       "      <td>-0.135174</td>\n",
       "      <td>-0.155388</td>\n",
       "      <td>-1.120834</td>\n",
       "      <td>-0.435049</td>\n",
       "      <td>-0.711345</td>\n",
       "      <td>1.706539</td>\n",
       "      <td>-2.139078</td>\n",
       "      <td>0.654949</td>\n",
       "      <td>-0.566242</td>\n",
       "      <td>-0.410038</td>\n",
       "      <td>-0.242523</td>\n",
       "      <td>0.443781</td>\n",
       "    </tr>\n",
       "    <tr>\n",
       "      <th>...</th>\n",
       "      <td>...</td>\n",
       "      <td>...</td>\n",
       "      <td>...</td>\n",
       "      <td>...</td>\n",
       "      <td>...</td>\n",
       "      <td>...</td>\n",
       "      <td>...</td>\n",
       "      <td>...</td>\n",
       "      <td>...</td>\n",
       "      <td>...</td>\n",
       "      <td>...</td>\n",
       "      <td>...</td>\n",
       "      <td>...</td>\n",
       "      <td>...</td>\n",
       "      <td>...</td>\n",
       "      <td>...</td>\n",
       "    </tr>\n",
       "    <tr>\n",
       "      <th>36163</th>\n",
       "      <td>0.854392</td>\n",
       "      <td>1.427949</td>\n",
       "      <td>-0.277860</td>\n",
       "      <td>1.040261</td>\n",
       "      <td>-0.135174</td>\n",
       "      <td>0.149668</td>\n",
       "      <td>-1.120834</td>\n",
       "      <td>-0.435049</td>\n",
       "      <td>-0.711345</td>\n",
       "      <td>-0.216485</td>\n",
       "      <td>-0.478093</td>\n",
       "      <td>0.232263</td>\n",
       "      <td>0.071332</td>\n",
       "      <td>-0.410038</td>\n",
       "      <td>-0.242523</td>\n",
       "      <td>0.443781</td>\n",
       "    </tr>\n",
       "    <tr>\n",
       "      <th>36164</th>\n",
       "      <td>-0.653346</td>\n",
       "      <td>-0.100186</td>\n",
       "      <td>-1.919423</td>\n",
       "      <td>1.040261</td>\n",
       "      <td>-0.135174</td>\n",
       "      <td>-0.271523</td>\n",
       "      <td>0.892193</td>\n",
       "      <td>-0.435049</td>\n",
       "      <td>-0.711345</td>\n",
       "      <td>0.144082</td>\n",
       "      <td>-0.893339</td>\n",
       "      <td>-0.097356</td>\n",
       "      <td>-0.247455</td>\n",
       "      <td>-0.410038</td>\n",
       "      <td>-0.242523</td>\n",
       "      <td>0.443781</td>\n",
       "    </tr>\n",
       "    <tr>\n",
       "      <th>36165</th>\n",
       "      <td>0.665925</td>\n",
       "      <td>-0.100186</td>\n",
       "      <td>-0.277860</td>\n",
       "      <td>1.040261</td>\n",
       "      <td>-0.135174</td>\n",
       "      <td>0.913442</td>\n",
       "      <td>-1.120834</td>\n",
       "      <td>-0.435049</td>\n",
       "      <td>1.519852</td>\n",
       "      <td>0.624838</td>\n",
       "      <td>-0.478093</td>\n",
       "      <td>0.406766</td>\n",
       "      <td>1.027693</td>\n",
       "      <td>-0.410038</td>\n",
       "      <td>-0.242523</td>\n",
       "      <td>0.443781</td>\n",
       "    </tr>\n",
       "    <tr>\n",
       "      <th>36166</th>\n",
       "      <td>0.383224</td>\n",
       "      <td>-1.322693</td>\n",
       "      <td>-0.277860</td>\n",
       "      <td>2.377723</td>\n",
       "      <td>-0.135174</td>\n",
       "      <td>0.134464</td>\n",
       "      <td>-1.120834</td>\n",
       "      <td>-0.435049</td>\n",
       "      <td>1.519852</td>\n",
       "      <td>0.504649</td>\n",
       "      <td>-0.062847</td>\n",
       "      <td>-0.958241</td>\n",
       "      <td>2.621628</td>\n",
       "      <td>-0.410038</td>\n",
       "      <td>-0.242523</td>\n",
       "      <td>0.443781</td>\n",
       "    </tr>\n",
       "    <tr>\n",
       "      <th>36167</th>\n",
       "      <td>0.383224</td>\n",
       "      <td>-1.017066</td>\n",
       "      <td>-0.277860</td>\n",
       "      <td>2.377723</td>\n",
       "      <td>-0.135174</td>\n",
       "      <td>-0.329429</td>\n",
       "      <td>0.892193</td>\n",
       "      <td>-0.435049</td>\n",
       "      <td>-0.711345</td>\n",
       "      <td>0.144082</td>\n",
       "      <td>-0.893339</td>\n",
       "      <td>-0.306760</td>\n",
       "      <td>-0.247455</td>\n",
       "      <td>2.961909</td>\n",
       "      <td>0.593780</td>\n",
       "      <td>-1.582819</td>\n",
       "    </tr>\n",
       "  </tbody>\n",
       "</table>\n",
       "<p>36168 rows × 16 columns</p>\n",
       "</div>"
      ],
      "text/plain": [
       "            age       job   marital  education   default   balance   housing  \\\n",
       "0      1.042859 -0.100186 -0.277860   1.040261 -0.135174 -0.442329 -1.120834   \n",
       "1      0.854392 -1.322693  1.363703  -0.297202 -0.135174 -0.335576  0.892193   \n",
       "2      0.383224 -1.017066 -0.277860  -1.634664 -0.135174 -0.345280  0.892193   \n",
       "3     -0.276411  1.427949 -0.277860  -0.297202 -0.135174 -0.433595  0.892193   \n",
       "4     -0.936046  0.816695  1.363703  -0.297202 -0.135174 -0.155388 -1.120834   \n",
       "...         ...       ...       ...        ...       ...       ...       ...   \n",
       "36163  0.854392  1.427949 -0.277860   1.040261 -0.135174  0.149668 -1.120834   \n",
       "36164 -0.653346 -0.100186 -1.919423   1.040261 -0.135174 -0.271523  0.892193   \n",
       "36165  0.665925 -0.100186 -0.277860   1.040261 -0.135174  0.913442 -1.120834   \n",
       "36166  0.383224 -1.322693 -0.277860   2.377723 -0.135174  0.134464 -1.120834   \n",
       "36167  0.383224 -1.017066 -0.277860   2.377723 -0.135174 -0.329429  0.892193   \n",
       "\n",
       "           loan   contact       day     month  duration  campaign     pdays  \\\n",
       "0     -0.435049 -0.711345  0.745027  0.767645 -0.101233 -0.247455 -0.410038   \n",
       "1     -0.435049  1.519852  1.466161 -0.478093 -0.907828 -0.566242 -0.410038   \n",
       "2     -0.435049 -0.711345  1.586350 -2.139078 -0.213691 -0.566242  2.211476   \n",
       "3     -0.435049  1.519852 -1.538564 -0.062847  0.565759  0.390119 -0.410038   \n",
       "4     -0.435049 -0.711345  1.706539 -2.139078  0.654949 -0.566242 -0.410038   \n",
       "...         ...       ...       ...       ...       ...       ...       ...   \n",
       "36163 -0.435049 -0.711345 -0.216485 -0.478093  0.232263  0.071332 -0.410038   \n",
       "36164 -0.435049 -0.711345  0.144082 -0.893339 -0.097356 -0.247455 -0.410038   \n",
       "36165 -0.435049  1.519852  0.624838 -0.478093  0.406766  1.027693 -0.410038   \n",
       "36166 -0.435049  1.519852  0.504649 -0.062847 -0.958241  2.621628 -0.410038   \n",
       "36167 -0.435049 -0.711345  0.144082 -0.893339 -0.306760 -0.247455  2.961909   \n",
       "\n",
       "       previous  poutcome  \n",
       "0     -0.242523  0.443781  \n",
       "1     -0.242523  0.443781  \n",
       "2      1.011932 -2.596120  \n",
       "3     -0.242523  0.443781  \n",
       "4     -0.242523  0.443781  \n",
       "...         ...       ...  \n",
       "36163 -0.242523  0.443781  \n",
       "36164 -0.242523  0.443781  \n",
       "36165 -0.242523  0.443781  \n",
       "36166 -0.242523  0.443781  \n",
       "36167  0.593780 -1.582819  \n",
       "\n",
       "[36168 rows x 16 columns]"
      ]
     },
     "execution_count": 239,
     "metadata": {},
     "output_type": "execute_result"
    }
   ],
   "source": [
    "ss = StandardScaler()\n",
    "xtrain = ss.fit_transform(xtrain)\n",
    "xtrain = pd.DataFrame(xtrain, columns=x.columns)\n",
    "xtrain"
   ]
  },
  {
   "cell_type": "code",
   "execution_count": 240,
   "id": "d3cf0730",
   "metadata": {
    "ExecuteTime": {
     "end_time": "2023-01-19T10:19:28.034175Z",
     "start_time": "2023-01-19T10:19:27.985851Z"
    },
    "scrolled": true
   },
   "outputs": [
    {
     "data": {
      "text/html": [
       "<div>\n",
       "<style scoped>\n",
       "    .dataframe tbody tr th:only-of-type {\n",
       "        vertical-align: middle;\n",
       "    }\n",
       "\n",
       "    .dataframe tbody tr th {\n",
       "        vertical-align: top;\n",
       "    }\n",
       "\n",
       "    .dataframe thead th {\n",
       "        text-align: right;\n",
       "    }\n",
       "</style>\n",
       "<table border=\"1\" class=\"dataframe\">\n",
       "  <thead>\n",
       "    <tr style=\"text-align: right;\">\n",
       "      <th></th>\n",
       "      <th>age</th>\n",
       "      <th>job</th>\n",
       "      <th>marital</th>\n",
       "      <th>education</th>\n",
       "      <th>default</th>\n",
       "      <th>balance</th>\n",
       "      <th>housing</th>\n",
       "      <th>loan</th>\n",
       "      <th>contact</th>\n",
       "      <th>day</th>\n",
       "      <th>month</th>\n",
       "      <th>duration</th>\n",
       "      <th>campaign</th>\n",
       "      <th>pdays</th>\n",
       "      <th>previous</th>\n",
       "      <th>poutcome</th>\n",
       "    </tr>\n",
       "  </thead>\n",
       "  <tbody>\n",
       "    <tr>\n",
       "      <th>0</th>\n",
       "      <td>0.100523</td>\n",
       "      <td>-1.017066</td>\n",
       "      <td>-0.277860</td>\n",
       "      <td>-1.634664</td>\n",
       "      <td>-0.135174</td>\n",
       "      <td>0.372557</td>\n",
       "      <td>0.892193</td>\n",
       "      <td>-0.435049</td>\n",
       "      <td>1.519852</td>\n",
       "      <td>-0.096296</td>\n",
       "      <td>-0.478093</td>\n",
       "      <td>0.015102</td>\n",
       "      <td>0.390119</td>\n",
       "      <td>-0.410038</td>\n",
       "      <td>-0.242523</td>\n",
       "      <td>0.443781</td>\n",
       "    </tr>\n",
       "    <tr>\n",
       "      <th>1</th>\n",
       "      <td>-0.370645</td>\n",
       "      <td>1.427949</td>\n",
       "      <td>-0.277860</td>\n",
       "      <td>-0.297202</td>\n",
       "      <td>-0.135174</td>\n",
       "      <td>0.272273</td>\n",
       "      <td>-1.120834</td>\n",
       "      <td>-0.435049</td>\n",
       "      <td>1.519852</td>\n",
       "      <td>0.504649</td>\n",
       "      <td>-0.062847</td>\n",
       "      <td>-0.353294</td>\n",
       "      <td>-0.247455</td>\n",
       "      <td>-0.410038</td>\n",
       "      <td>-0.242523</td>\n",
       "      <td>0.443781</td>\n",
       "    </tr>\n",
       "    <tr>\n",
       "      <th>2</th>\n",
       "      <td>-0.841813</td>\n",
       "      <td>-1.322693</td>\n",
       "      <td>-0.277860</td>\n",
       "      <td>-0.297202</td>\n",
       "      <td>-0.135174</td>\n",
       "      <td>-0.143743</td>\n",
       "      <td>0.892193</td>\n",
       "      <td>-0.435049</td>\n",
       "      <td>-0.711345</td>\n",
       "      <td>0.144082</td>\n",
       "      <td>-0.893339</td>\n",
       "      <td>2.175071</td>\n",
       "      <td>0.390119</td>\n",
       "      <td>-0.410038</td>\n",
       "      <td>-0.242523</td>\n",
       "      <td>0.443781</td>\n",
       "    </tr>\n",
       "    <tr>\n",
       "      <th>3</th>\n",
       "      <td>1.137093</td>\n",
       "      <td>-1.017066</td>\n",
       "      <td>-0.277860</td>\n",
       "      <td>-1.634664</td>\n",
       "      <td>-0.135174</td>\n",
       "      <td>-0.343340</td>\n",
       "      <td>-1.120834</td>\n",
       "      <td>-0.435049</td>\n",
       "      <td>-0.711345</td>\n",
       "      <td>1.466161</td>\n",
       "      <td>0.352399</td>\n",
       "      <td>0.503713</td>\n",
       "      <td>0.071332</td>\n",
       "      <td>1.411013</td>\n",
       "      <td>0.175629</td>\n",
       "      <td>-0.569519</td>\n",
       "    </tr>\n",
       "    <tr>\n",
       "      <th>4</th>\n",
       "      <td>-0.841813</td>\n",
       "      <td>1.427949</td>\n",
       "      <td>1.363703</td>\n",
       "      <td>1.040261</td>\n",
       "      <td>-0.135174</td>\n",
       "      <td>-0.359191</td>\n",
       "      <td>0.892193</td>\n",
       "      <td>-0.435049</td>\n",
       "      <td>1.519852</td>\n",
       "      <td>-1.658753</td>\n",
       "      <td>-0.062847</td>\n",
       "      <td>-0.291249</td>\n",
       "      <td>0.708906</td>\n",
       "      <td>-0.410038</td>\n",
       "      <td>-0.242523</td>\n",
       "      <td>0.443781</td>\n",
       "    </tr>\n",
       "    <tr>\n",
       "      <th>...</th>\n",
       "      <td>...</td>\n",
       "      <td>...</td>\n",
       "      <td>...</td>\n",
       "      <td>...</td>\n",
       "      <td>...</td>\n",
       "      <td>...</td>\n",
       "      <td>...</td>\n",
       "      <td>...</td>\n",
       "      <td>...</td>\n",
       "      <td>...</td>\n",
       "      <td>...</td>\n",
       "      <td>...</td>\n",
       "      <td>...</td>\n",
       "      <td>...</td>\n",
       "      <td>...</td>\n",
       "      <td>...</td>\n",
       "    </tr>\n",
       "    <tr>\n",
       "      <th>9038</th>\n",
       "      <td>1.419793</td>\n",
       "      <td>-0.405812</td>\n",
       "      <td>-0.277860</td>\n",
       "      <td>-1.634664</td>\n",
       "      <td>-0.135174</td>\n",
       "      <td>-0.442329</td>\n",
       "      <td>-1.120834</td>\n",
       "      <td>-0.435049</td>\n",
       "      <td>-0.711345</td>\n",
       "      <td>1.225783</td>\n",
       "      <td>0.767645</td>\n",
       "      <td>-0.605355</td>\n",
       "      <td>-0.247455</td>\n",
       "      <td>-0.410038</td>\n",
       "      <td>-0.242523</td>\n",
       "      <td>0.443781</td>\n",
       "    </tr>\n",
       "    <tr>\n",
       "      <th>9039</th>\n",
       "      <td>-0.747579</td>\n",
       "      <td>0.816695</td>\n",
       "      <td>1.363703</td>\n",
       "      <td>-0.297202</td>\n",
       "      <td>-0.135174</td>\n",
       "      <td>0.822539</td>\n",
       "      <td>0.892193</td>\n",
       "      <td>-0.435049</td>\n",
       "      <td>-0.711345</td>\n",
       "      <td>0.384460</td>\n",
       "      <td>2.013383</td>\n",
       "      <td>1.620537</td>\n",
       "      <td>-0.247455</td>\n",
       "      <td>-0.410038</td>\n",
       "      <td>-0.242523</td>\n",
       "      <td>0.443781</td>\n",
       "    </tr>\n",
       "    <tr>\n",
       "      <th>9040</th>\n",
       "      <td>0.288990</td>\n",
       "      <td>2.039202</td>\n",
       "      <td>-0.277860</td>\n",
       "      <td>2.377723</td>\n",
       "      <td>-0.135174</td>\n",
       "      <td>-0.016285</td>\n",
       "      <td>-1.120834</td>\n",
       "      <td>-0.435049</td>\n",
       "      <td>0.404253</td>\n",
       "      <td>1.826728</td>\n",
       "      <td>0.352399</td>\n",
       "      <td>0.720873</td>\n",
       "      <td>1.027693</td>\n",
       "      <td>-0.410038</td>\n",
       "      <td>-0.242523</td>\n",
       "      <td>0.443781</td>\n",
       "    </tr>\n",
       "    <tr>\n",
       "      <th>9041</th>\n",
       "      <td>-0.936046</td>\n",
       "      <td>-0.100186</td>\n",
       "      <td>1.363703</td>\n",
       "      <td>1.040261</td>\n",
       "      <td>-0.135174</td>\n",
       "      <td>-0.343663</td>\n",
       "      <td>0.892193</td>\n",
       "      <td>-0.435049</td>\n",
       "      <td>1.519852</td>\n",
       "      <td>1.466161</td>\n",
       "      <td>-0.478093</td>\n",
       "      <td>0.150828</td>\n",
       "      <td>3.577989</td>\n",
       "      <td>-0.410038</td>\n",
       "      <td>-0.242523</td>\n",
       "      <td>0.443781</td>\n",
       "    </tr>\n",
       "    <tr>\n",
       "      <th>9042</th>\n",
       "      <td>-1.218747</td>\n",
       "      <td>1.733575</td>\n",
       "      <td>1.363703</td>\n",
       "      <td>-1.634664</td>\n",
       "      <td>-0.135174</td>\n",
       "      <td>0.002154</td>\n",
       "      <td>-1.120834</td>\n",
       "      <td>-0.435049</td>\n",
       "      <td>-0.711345</td>\n",
       "      <td>0.865216</td>\n",
       "      <td>-0.893339</td>\n",
       "      <td>-0.213691</td>\n",
       "      <td>0.390119</td>\n",
       "      <td>-0.410038</td>\n",
       "      <td>-0.242523</td>\n",
       "      <td>0.443781</td>\n",
       "    </tr>\n",
       "  </tbody>\n",
       "</table>\n",
       "<p>9043 rows × 16 columns</p>\n",
       "</div>"
      ],
      "text/plain": [
       "           age       job   marital  education   default   balance   housing  \\\n",
       "0     0.100523 -1.017066 -0.277860  -1.634664 -0.135174  0.372557  0.892193   \n",
       "1    -0.370645  1.427949 -0.277860  -0.297202 -0.135174  0.272273 -1.120834   \n",
       "2    -0.841813 -1.322693 -0.277860  -0.297202 -0.135174 -0.143743  0.892193   \n",
       "3     1.137093 -1.017066 -0.277860  -1.634664 -0.135174 -0.343340 -1.120834   \n",
       "4    -0.841813  1.427949  1.363703   1.040261 -0.135174 -0.359191  0.892193   \n",
       "...        ...       ...       ...        ...       ...       ...       ...   \n",
       "9038  1.419793 -0.405812 -0.277860  -1.634664 -0.135174 -0.442329 -1.120834   \n",
       "9039 -0.747579  0.816695  1.363703  -0.297202 -0.135174  0.822539  0.892193   \n",
       "9040  0.288990  2.039202 -0.277860   2.377723 -0.135174 -0.016285 -1.120834   \n",
       "9041 -0.936046 -0.100186  1.363703   1.040261 -0.135174 -0.343663  0.892193   \n",
       "9042 -1.218747  1.733575  1.363703  -1.634664 -0.135174  0.002154 -1.120834   \n",
       "\n",
       "          loan   contact       day     month  duration  campaign     pdays  \\\n",
       "0    -0.435049  1.519852 -0.096296 -0.478093  0.015102  0.390119 -0.410038   \n",
       "1    -0.435049  1.519852  0.504649 -0.062847 -0.353294 -0.247455 -0.410038   \n",
       "2    -0.435049 -0.711345  0.144082 -0.893339  2.175071  0.390119 -0.410038   \n",
       "3    -0.435049 -0.711345  1.466161  0.352399  0.503713  0.071332  1.411013   \n",
       "4    -0.435049  1.519852 -1.658753 -0.062847 -0.291249  0.708906 -0.410038   \n",
       "...        ...       ...       ...       ...       ...       ...       ...   \n",
       "9038 -0.435049 -0.711345  1.225783  0.767645 -0.605355 -0.247455 -0.410038   \n",
       "9039 -0.435049 -0.711345  0.384460  2.013383  1.620537 -0.247455 -0.410038   \n",
       "9040 -0.435049  0.404253  1.826728  0.352399  0.720873  1.027693 -0.410038   \n",
       "9041 -0.435049  1.519852  1.466161 -0.478093  0.150828  3.577989 -0.410038   \n",
       "9042 -0.435049 -0.711345  0.865216 -0.893339 -0.213691  0.390119 -0.410038   \n",
       "\n",
       "      previous  poutcome  \n",
       "0    -0.242523  0.443781  \n",
       "1    -0.242523  0.443781  \n",
       "2    -0.242523  0.443781  \n",
       "3     0.175629 -0.569519  \n",
       "4    -0.242523  0.443781  \n",
       "...        ...       ...  \n",
       "9038 -0.242523  0.443781  \n",
       "9039 -0.242523  0.443781  \n",
       "9040 -0.242523  0.443781  \n",
       "9041 -0.242523  0.443781  \n",
       "9042 -0.242523  0.443781  \n",
       "\n",
       "[9043 rows x 16 columns]"
      ]
     },
     "execution_count": 240,
     "metadata": {},
     "output_type": "execute_result"
    }
   ],
   "source": [
    "xtest = ss.transform(xtest)\n",
    "xtest = pd.DataFrame(xtest, columns=x.columns)\n",
    "xtest"
   ]
  },
  {
   "cell_type": "markdown",
   "id": "d2fafa86",
   "metadata": {},
   "source": [
    "## Splitting the data"
   ]
  },
  {
   "cell_type": "code",
   "execution_count": 241,
   "id": "e164ed81",
   "metadata": {
    "ExecuteTime": {
     "end_time": "2023-01-19T10:19:43.706961Z",
     "start_time": "2023-01-19T10:19:43.658566Z"
    }
   },
   "outputs": [],
   "source": [
    "x = df.iloc[:, :-1]\n",
    "y = df.iloc[:,-1]\n",
    "xtrain, xtest, ytrain, ytest = train_test_split(x, y, test_size=0.2, random_state=1)"
   ]
  },
  {
   "cell_type": "markdown",
   "id": "aef4d0c1",
   "metadata": {},
   "source": [
    "## Model building"
   ]
  },
  {
   "cell_type": "code",
   "execution_count": 302,
   "id": "3f9b06d0",
   "metadata": {
    "ExecuteTime": {
     "end_time": "2023-01-19T14:41:54.841456Z",
     "start_time": "2023-01-19T14:41:54.552882Z"
    }
   },
   "outputs": [
    {
     "name": "stderr",
     "output_type": "stream",
     "text": [
      "C:\\Users\\rasam\\anaconda3\\lib\\site-packages\\sklearn\\linear_model\\_logistic.py:814: ConvergenceWarning: lbfgs failed to converge (status=1):\n",
      "STOP: TOTAL NO. of ITERATIONS REACHED LIMIT.\n",
      "\n",
      "Increase the number of iterations (max_iter) or scale the data as shown in:\n",
      "    https://scikit-learn.org/stable/modules/preprocessing.html\n",
      "Please also refer to the documentation for alternative solver options:\n",
      "    https://scikit-learn.org/stable/modules/linear_model.html#logistic-regression\n",
      "  n_iter_i = _check_optimize_result(\n"
     ]
    },
    {
     "data": {
      "text/plain": [
       "array([0, 0, 0, 0, 0, 0, 0, 0, 0, 1, 0, 0, 0, 0, 0, 0, 0, 0, 0, 0])"
      ]
     },
     "execution_count": 302,
     "metadata": {},
     "output_type": "execute_result"
    }
   ],
   "source": [
    "lr = LogisticRegression()\n",
    "lr.fit(xtrain, ytrain)\n",
    "y_pred = lr.predict(xtest)\n",
    "y_pred[:20]"
   ]
  },
  {
   "cell_type": "code",
   "execution_count": 303,
   "id": "33dd5e8e",
   "metadata": {
    "ExecuteTime": {
     "end_time": "2023-01-19T14:41:56.887633Z",
     "start_time": "2023-01-19T14:41:56.867468Z"
    },
    "scrolled": true
   },
   "outputs": [
    {
     "data": {
      "text/plain": [
       "array([[7846,  147],\n",
       "       [ 870,  180]], dtype=int64)"
      ]
     },
     "execution_count": 303,
     "metadata": {},
     "output_type": "execute_result"
    }
   ],
   "source": [
    "confusion_matrix(ytest, y_pred)"
   ]
  },
  {
   "cell_type": "code",
   "execution_count": 304,
   "id": "c53bdd6a",
   "metadata": {
    "ExecuteTime": {
     "end_time": "2023-01-19T14:41:58.329703Z",
     "start_time": "2023-01-19T14:41:58.289242Z"
    },
    "scrolled": true
   },
   "outputs": [
    {
     "name": "stdout",
     "output_type": "stream",
     "text": [
      "              precision    recall  f1-score   support\n",
      "\n",
      "           0       0.90      0.98      0.94      7993\n",
      "           1       0.55      0.17      0.26      1050\n",
      "\n",
      "    accuracy                           0.89      9043\n",
      "   macro avg       0.73      0.58      0.60      9043\n",
      "weighted avg       0.86      0.89      0.86      9043\n",
      "\n"
     ]
    }
   ],
   "source": [
    "print(classification_report(ytest, y_pred))"
   ]
  },
  {
   "cell_type": "markdown",
   "id": "67f093a0",
   "metadata": {},
   "source": [
    "#### We can see that the recall score is very low for 1, so we need to increase the recall score for 1"
   ]
  },
  {
   "cell_type": "markdown",
   "id": "75db4cdb",
   "metadata": {},
   "source": [
    "### Probablities"
   ]
  },
  {
   "cell_type": "code",
   "execution_count": 306,
   "id": "49a312f1",
   "metadata": {
    "ExecuteTime": {
     "end_time": "2023-01-19T14:42:02.694826Z",
     "start_time": "2023-01-19T14:42:02.662904Z"
    }
   },
   "outputs": [
    {
     "data": {
      "text/plain": [
       "array([0.02905047, 0.06666227, 0.30551245, ..., 0.04857116, 0.00150762,\n",
       "       0.08911953])"
      ]
     },
     "execution_count": 306,
     "metadata": {},
     "output_type": "execute_result"
    }
   ],
   "source": [
    "prob = lr.predict_proba(xtest)\n",
    "prob = prob[:, 1]\n",
    "prob"
   ]
  },
  {
   "cell_type": "markdown",
   "id": "2f3312ab",
   "metadata": {},
   "source": [
    "## Plotting the ROC curve and calculating the AUC"
   ]
  },
  {
   "cell_type": "code",
   "execution_count": 307,
   "id": "242a1172",
   "metadata": {
    "ExecuteTime": {
     "end_time": "2023-01-19T14:42:03.710724Z",
     "start_time": "2023-01-19T14:42:03.558464Z"
    }
   },
   "outputs": [
    {
     "data": {
      "text/plain": [
       "<matplotlib.legend.Legend at 0x248f0cae7f0>"
      ]
     },
     "execution_count": 307,
     "metadata": {},
     "output_type": "execute_result"
    },
    {
     "data": {
      "image/png": "[encoded data removed]",
      "text/plain": [
       "<Figure size 640x480 with 1 Axes>"
      ]
     },
     "metadata": {},
     "output_type": "display_data"
    }
   ],
   "source": [
    "auc = roc_auc_score(ytest, prob)\n",
    "\n",
    "fpr, tpr, thresh = roc_curve(ytest, prob)\n",
    "plt.plot(fpr, tpr, label=f'AUC = {round(auc, 3)}')\n",
    "plt.xlabel('FPR')\n",
    "plt.ylabel('TPR')\n",
    "plt.legend()"
   ]
  },
  {
   "cell_type": "markdown",
   "id": "a3275f65",
   "metadata": {},
   "source": [
    "## Selecting the threshold with the best accuracy"
   ]
  },
  {
   "cell_type": "code",
   "execution_count": 308,
   "id": "4ad09336",
   "metadata": {
    "ExecuteTime": {
     "end_time": "2023-01-19T14:42:27.969551Z",
     "start_time": "2023-01-19T14:42:27.433274Z"
    },
    "scrolled": true
   },
   "outputs": [],
   "source": [
    "acc = []\n",
    "for i in thresh:\n",
    "    y_pred = np.where(prob > i, 1, 0)\n",
    "    acc.append(accuracy_score(ytest, y_pred))"
   ]
  },
  {
   "cell_type": "code",
   "execution_count": 310,
   "id": "89839501",
   "metadata": {
    "ExecuteTime": {
     "end_time": "2023-01-19T14:42:29.113028Z",
     "start_time": "2023-01-19T14:42:29.072935Z"
    }
   },
   "outputs": [
    {
     "data": {
      "text/html": [
       "<div>\n",
       "<style scoped>\n",
       "    .dataframe tbody tr th:only-of-type {\n",
       "        vertical-align: middle;\n",
       "    }\n",
       "\n",
       "    .dataframe tbody tr th {\n",
       "        vertical-align: top;\n",
       "    }\n",
       "\n",
       "    .dataframe thead th {\n",
       "        text-align: right;\n",
       "    }\n",
       "</style>\n",
       "<table border=\"1\" class=\"dataframe\">\n",
       "  <thead>\n",
       "    <tr style=\"text-align: right;\">\n",
       "      <th></th>\n",
       "      <th>Accuracy</th>\n",
       "      <th>Threshold</th>\n",
       "    </tr>\n",
       "  </thead>\n",
       "  <tbody>\n",
       "    <tr>\n",
       "      <th>0</th>\n",
       "      <td>0.883888</td>\n",
       "      <td>1.9999</td>\n",
       "    </tr>\n",
       "    <tr>\n",
       "      <th>1</th>\n",
       "      <td>0.883888</td>\n",
       "      <td>0.9999</td>\n",
       "    </tr>\n",
       "    <tr>\n",
       "      <th>2</th>\n",
       "      <td>0.883667</td>\n",
       "      <td>0.9967</td>\n",
       "    </tr>\n",
       "    <tr>\n",
       "      <th>3</th>\n",
       "      <td>0.883556</td>\n",
       "      <td>0.9947</td>\n",
       "    </tr>\n",
       "    <tr>\n",
       "      <th>4</th>\n",
       "      <td>0.883667</td>\n",
       "      <td>0.9945</td>\n",
       "    </tr>\n",
       "    <tr>\n",
       "      <th>...</th>\n",
       "      <td>...</td>\n",
       "      <td>...</td>\n",
       "    </tr>\n",
       "    <tr>\n",
       "      <th>1542</th>\n",
       "      <td>0.141435</td>\n",
       "      <td>0.0036</td>\n",
       "    </tr>\n",
       "    <tr>\n",
       "      <th>1543</th>\n",
       "      <td>0.141325</td>\n",
       "      <td>0.0036</td>\n",
       "    </tr>\n",
       "    <tr>\n",
       "      <th>1544</th>\n",
       "      <td>0.127613</td>\n",
       "      <td>0.0008</td>\n",
       "    </tr>\n",
       "    <tr>\n",
       "      <th>1545</th>\n",
       "      <td>0.127502</td>\n",
       "      <td>0.0008</td>\n",
       "    </tr>\n",
       "    <tr>\n",
       "      <th>1546</th>\n",
       "      <td>0.116222</td>\n",
       "      <td>0.0000</td>\n",
       "    </tr>\n",
       "  </tbody>\n",
       "</table>\n",
       "<p>1547 rows × 2 columns</p>\n",
       "</div>"
      ],
      "text/plain": [
       "      Accuracy  Threshold\n",
       "0     0.883888     1.9999\n",
       "1     0.883888     0.9999\n",
       "2     0.883667     0.9967\n",
       "3     0.883556     0.9947\n",
       "4     0.883667     0.9945\n",
       "...        ...        ...\n",
       "1542  0.141435     0.0036\n",
       "1543  0.141325     0.0036\n",
       "1544  0.127613     0.0008\n",
       "1545  0.127502     0.0008\n",
       "1546  0.116222     0.0000\n",
       "\n",
       "[1547 rows x 2 columns]"
      ]
     },
     "execution_count": 310,
     "metadata": {},
     "output_type": "execute_result"
    }
   ],
   "source": [
    "acc_df = pd.DataFrame({'Accuracy': acc, 'Threshold': thresh})\n",
    "acc_df['Threshold'] = acc_df[\"Threshold\"].apply(lambda x: round(x, 4))\n",
    "acc_df"
   ]
  },
  {
   "cell_type": "code",
   "execution_count": 311,
   "id": "1dbc17d7",
   "metadata": {
    "ExecuteTime": {
     "end_time": "2023-01-19T14:42:36.758720Z",
     "start_time": "2023-01-19T14:42:36.730462Z"
    }
   },
   "outputs": [
    {
     "data": {
      "text/html": [
       "<div>\n",
       "<style scoped>\n",
       "    .dataframe tbody tr th:only-of-type {\n",
       "        vertical-align: middle;\n",
       "    }\n",
       "\n",
       "    .dataframe tbody tr th {\n",
       "        vertical-align: top;\n",
       "    }\n",
       "\n",
       "    .dataframe thead th {\n",
       "        text-align: right;\n",
       "    }\n",
       "</style>\n",
       "<table border=\"1\" class=\"dataframe\">\n",
       "  <thead>\n",
       "    <tr style=\"text-align: right;\">\n",
       "      <th></th>\n",
       "      <th>Accuracy</th>\n",
       "      <th>Threshold</th>\n",
       "    </tr>\n",
       "  </thead>\n",
       "  <tbody>\n",
       "    <tr>\n",
       "      <th>133</th>\n",
       "      <td>0.887869</td>\n",
       "      <td>0.5540</td>\n",
       "    </tr>\n",
       "    <tr>\n",
       "      <th>128</th>\n",
       "      <td>0.887869</td>\n",
       "      <td>0.5672</td>\n",
       "    </tr>\n",
       "    <tr>\n",
       "      <th>146</th>\n",
       "      <td>0.887758</td>\n",
       "      <td>0.5225</td>\n",
       "    </tr>\n",
       "    <tr>\n",
       "      <th>143</th>\n",
       "      <td>0.887758</td>\n",
       "      <td>0.5292</td>\n",
       "    </tr>\n",
       "    <tr>\n",
       "      <th>127</th>\n",
       "      <td>0.887758</td>\n",
       "      <td>0.5673</td>\n",
       "    </tr>\n",
       "    <tr>\n",
       "      <th>...</th>\n",
       "      <td>...</td>\n",
       "      <td>...</td>\n",
       "    </tr>\n",
       "    <tr>\n",
       "      <th>1542</th>\n",
       "      <td>0.141435</td>\n",
       "      <td>0.0036</td>\n",
       "    </tr>\n",
       "    <tr>\n",
       "      <th>1543</th>\n",
       "      <td>0.141325</td>\n",
       "      <td>0.0036</td>\n",
       "    </tr>\n",
       "    <tr>\n",
       "      <th>1544</th>\n",
       "      <td>0.127613</td>\n",
       "      <td>0.0008</td>\n",
       "    </tr>\n",
       "    <tr>\n",
       "      <th>1545</th>\n",
       "      <td>0.127502</td>\n",
       "      <td>0.0008</td>\n",
       "    </tr>\n",
       "    <tr>\n",
       "      <th>1546</th>\n",
       "      <td>0.116222</td>\n",
       "      <td>0.0000</td>\n",
       "    </tr>\n",
       "  </tbody>\n",
       "</table>\n",
       "<p>1547 rows × 2 columns</p>\n",
       "</div>"
      ],
      "text/plain": [
       "      Accuracy  Threshold\n",
       "133   0.887869     0.5540\n",
       "128   0.887869     0.5672\n",
       "146   0.887758     0.5225\n",
       "143   0.887758     0.5292\n",
       "127   0.887758     0.5673\n",
       "...        ...        ...\n",
       "1542  0.141435     0.0036\n",
       "1543  0.141325     0.0036\n",
       "1544  0.127613     0.0008\n",
       "1545  0.127502     0.0008\n",
       "1546  0.116222     0.0000\n",
       "\n",
       "[1547 rows x 2 columns]"
      ]
     },
     "execution_count": 311,
     "metadata": {},
     "output_type": "execute_result"
    }
   ],
   "source": [
    "acc_df = acc_df.sort_values(by='Accuracy', ascending=False)\n",
    "acc_df"
   ]
  },
  {
   "cell_type": "code",
   "execution_count": 388,
   "id": "9e05cf51",
   "metadata": {
    "ExecuteTime": {
     "end_time": "2023-01-19T15:11:22.804171Z",
     "start_time": "2023-01-19T15:11:22.787909Z"
    },
    "scrolled": true
   },
   "outputs": [
    {
     "data": {
      "text/plain": [
       "array([0., 0., 1., 0., 0., 0., 0., 0., 0., 1., 0., 1., 0., 0., 0., 0., 0.,\n",
       "       0., 0., 0.])"
      ]
     },
     "execution_count": 388,
     "metadata": {},
     "output_type": "execute_result"
    }
   ],
   "source": [
    "final_y = binarize([prob], threshold=0.24)[0]\n",
    "final_y[:20]"
   ]
  },
  {
   "cell_type": "code",
   "execution_count": 389,
   "id": "7f3a527f",
   "metadata": {
    "ExecuteTime": {
     "end_time": "2023-01-19T15:11:23.954388Z",
     "start_time": "2023-01-19T15:11:23.917859Z"
    }
   },
   "outputs": [
    {
     "name": "stdout",
     "output_type": "stream",
     "text": [
      "              precision    recall  f1-score   support\n",
      "\n",
      "           0       0.93      0.91      0.92      7993\n",
      "           1       0.40      0.44      0.42      1050\n",
      "\n",
      "    accuracy                           0.86      9043\n",
      "   macro avg       0.66      0.68      0.67      9043\n",
      "weighted avg       0.86      0.86      0.86      9043\n",
      "\n"
     ]
    }
   ],
   "source": [
    "print(classification_report(ytest, final_y))"
   ]
  },
  {
   "cell_type": "markdown",
   "id": "84b843e3",
   "metadata": {},
   "source": [
    "### As we can see that there is no improvement in accuracy and recall value, we will try to get the best recall value and increase f1-score "
   ]
  },
  {
   "cell_type": "code",
   "execution_count": 390,
   "id": "06b7be25",
   "metadata": {
    "ExecuteTime": {
     "end_time": "2023-01-19T15:11:27.926721Z",
     "start_time": "2023-01-19T15:11:27.893609Z"
    }
   },
   "outputs": [
    {
     "name": "stdout",
     "output_type": "stream",
     "text": [
      "              precision    recall  f1-score   support\n",
      "\n",
      "           0       0.92      0.92      0.92      7993\n",
      "           1       0.41      0.41      0.41      1050\n",
      "\n",
      "    accuracy                           0.86      9043\n",
      "   macro avg       0.67      0.66      0.67      9043\n",
      "weighted avg       0.86      0.86      0.86      9043\n",
      "\n"
     ]
    }
   ],
   "source": [
    "final_y = binarize([prob], threshold=0.259)[0]\n",
    "print(classification_report(ytest, final_y))"
   ]
  },
  {
   "cell_type": "code",
   "execution_count": null,
   "id": "47d98b04",
   "metadata": {},
   "outputs": [],
   "source": []
  }
 ],
 "metadata": {
  "kernelspec": {
   "display_name": "Python 3 (ipykernel)",
   "language": "python",
   "name": "python3"
  },
  "language_info": {
   "codemirror_mode": {
    "name": "ipython",
    "version": 3
   },
   "file_extension": ".py",
   "mimetype": "text/x-python",
   "name": "python",
   "nbconvert_exporter": "python",
   "pygments_lexer": "ipython3",
   "version": "3.9.13"
  }
 },
 "nbformat": 4,
 "nbformat_minor": 5
}
